{
 "cells": [
  {
   "cell_type": "markdown",
   "metadata": {},
   "source": [
    "# Keras Examples\n",
    "\n",
    "### Why Should I Care?\n",
    "\n",
    "Keras is a high level API for Tensorflow (and as a standalone) that \n",
    "simplifies many of the tasks involved in implementing a ML model. As a\n",
    "student, incorporating Keras and related high level API entities will:\n",
    "\n",
    "1. **Save you time** - features that would take time to implement may already\n",
    "be included in Keras.\n",
    "2. **Improve readability** - High level APIs can facilitate the writing of clean\n",
    "and readable code, allowing you to focus on learning the core concepts.\n",
    "3. **Compatibility** - Since high level APIs add a level of abstraction onto the\n",
    "underlying operations, your code will be more resilient to changes made to these\n",
    "underlying operations."
   ]
  },
  {
   "cell_type": "markdown",
   "metadata": {},
   "source": [
    "## Importing Images \n",
    "\n",
    "This was one of the first use cases that sold me on the value of Keras. For image\n",
    "classification or regression, you will often need to import images with some\n",
    "underlying directory structure. My initial approach to handling this on an assigment\n",
    "was to write my own functions to traverse the directory and parse images / classes\n",
    "as required for the assignment. I eventually discovered that Keras provides high\n",
    "level APIs to automate this entire process using a few lines of code.\n",
    "\n",
    "**Note**: See [documentation](https://keras.io/preprocessing/image/) for reference\n",
    "\n",
    "A minimal version of Tiny Imagenet is included in this directory, \n",
    "where only one image of each class is included. \n",
    "\n",
    "We can view the directory structure..."
   ]
  },
  {
   "cell_type": "code",
   "execution_count": null,
   "metadata": {},
   "outputs": [],
   "source": [
    "import os\n",
    "DATASET_ROOT = './tiny_imagenet_minimal'\n",
    "for root, dirs, files in os.walk(DATASET_ROOT):\n",
    "    for name in files:\n",
    "        print(os.path.join(root, name))"
   ]
  },
  {
   "cell_type": "markdown",
   "metadata": {},
   "source": [
    "We see that the training set contains 200 directories corresponding to the 200 \n",
    "classes in Tiny Imagenet. Within each directory is an `images` directory that\n",
    "contains the individual `JPEG` images of that class.\n",
    "\n",
    "We will begin by creating an `ImageDataGenerator` object as follows."
   ]
  },
  {
   "cell_type": "code",
   "execution_count": null,
   "metadata": {},
   "outputs": [],
   "source": [
    "from tensorflow.keras.preprocessing.image import ImageDataGenerator\n",
    "train_datagen = ImageDataGenerator(\n",
    "        data_format='channels_last',\n",
    "        samplewise_center=True,\n",
    "        samplewise_std_normalization=True,\n",
    "        horizontal_flip=True,\n",
    "        rescale=1./255\n",
    ")"
   ]
  },
  {
   "cell_type": "markdown",
   "metadata": {},
   "source": [
    "The passed arguments:\n",
    "\n",
    " * `samplewise_center=True` - Normalize to zero mean\n",
    " * `samplewise_std_normalization=True` - Normalize to unit variance\n",
    " * `horizontal_flip=True` - Flip images\n",
    " * `data_format=True` - Generator should yield images with channels on axis 0\n",
    " * `rescale=1./255` - Rescale 8 bit images to a float on [0, 1]\n",
    "\n",
    "The constructor also allows one to specify a custom preprocessing function to run \n",
    "after the above operations. We have just defined a generator, but no processing\n",
    "has actually been performed. Tensorflow has added the file reading operations and\n",
    "the pre-processing steps we specified to the computational graph.\n",
    "\n",
    "Next we use the `flow_from_directory` method which automatically\n",
    "interprets the file structure of the training set and returns an iterator\n",
    "over training files. Our preprocessing operations will be applied as files are pulled \n",
    "from this iterator as tuples of image label pairs. The arguments are mostly trivial. \n",
    "We specify a `class_mode='sparse'` such that an argmax integer is produced for labels, \n",
    "rather than a one hot vector. "
   ]
  },
  {
   "cell_type": "code",
   "execution_count": null,
   "metadata": {},
   "outputs": [],
   "source": [
    "train_generator = train_datagen.flow_from_directory(\n",
    "        DATASET_ROOT,\n",
    "        target_size=(64, 64),\n",
    "        batch_size=4,\n",
    "        class_mode='sparse'\n",
    ")"
   ]
  },
  {
   "cell_type": "markdown",
   "metadata": {},
   "source": [
    "We get a nice output stating the number of images and classes that were detected.\n",
    "\n",
    "We can then plot the images."
   ]
  },
  {
   "cell_type": "code",
   "execution_count": null,
   "metadata": {},
   "outputs": [],
   "source": [
    "import numpy as np\n",
    "from matplotlib import pyplot as plt\n",
    "\n",
    "def plot_images(img_iter, rows=2, cols=2):\n",
    "    fig=plt.figure(figsize=(8, 8))\n",
    "    img_iter = img_iter[:rows*cols]\n",
    "    for i, img in enumerate(img_iter):\n",
    "        fig.add_subplot(rows, cols, i+1)\n",
    "        plt.imshow(img)\n",
    "    plt.show()\n",
    "    return img_iter\n",
    "\n",
    "img_bat, label_bat = train_generator.next()\n",
    "_ = plot_images(img_bat)"
   ]
  },
  {
   "cell_type": "markdown",
   "metadata": {},
   "source": [
    "Note that some of the images look strange - the yielded images have had their\n",
    "preprocessing operations applied.\n",
    "\n",
    "Later demos will show exactly how to apply this workflow to training models.\n",
    "The brief explanation is that the generator we created can be used for any Keras \n",
    "call that accepts a generator as an input argument. Similarly, we can use this\n",
    "generator to offer training examples as inputs for TFRecord generation."
   ]
  }
 ],
 "metadata": {
  "kernelspec": {
   "display_name": "Python 3",
   "language": "python",
   "name": "python3"
  },
  "language_info": {
   "codemirror_mode": {
    "name": "ipython",
    "version": 3
   },
   "file_extension": ".py",
   "mimetype": "text/x-python",
   "name": "python",
   "nbconvert_exporter": "python",
   "pygments_lexer": "ipython3",
   "version": "3.7.3"
  }
 },
 "nbformat": 4,
 "nbformat_minor": 2
}
