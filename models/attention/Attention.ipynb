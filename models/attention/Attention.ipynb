{
 "cells": [
  {
   "cell_type": "markdown",
   "metadata": {},
   "source": [
    "# Attention\n",
    "\n",
    "Attention layers, as described in [this](https://arxiv.org/abs/1706.03762) paper,"
   ]
  },
  {
   "cell_type": "markdown",
   "metadata": {},
   "source": [
    "# Attention"
   ]
  },
  {
   "cell_type": "code",
   "execution_count": null,
   "metadata": {},
   "outputs": [],
   "source": [
    "import tensorflow as tf\n",
    "import tensorflow.layers as layers\n",
    "\n",
    "class Attention(tf.keras.Model):\n",
    "\n",
    "    def __init__(self, heads=1, *args, **kwargs):\n",
    "\n",
    "        self.heads = list()\n",
    "        for i in range(heads):\n",
    "            self.matmul_qk = layers.Dot(name='matmul_qk')\n",
    "            self.matmul_v = layers.Dot(name='matmul_v')\n",
    "\n",
    "            self.scale = layers.Multiply(name='scale')\n",
    "            self.softmax = layers.Softmax()\n",
    "\n",
    "\n",
    "    def __call__(self, inputs, *args, **kwargs):\n",
    "        # TODO Precompute weight matrix product\n",
    "        q, k, v = inputs\n",
    "        _ = tf.linalg.transpose(q)\n",
    "        _ = self.matmul_qk(self.query, _) \n",
    "        _ = self.softmax(_)\n",
    "        _ = self.matmul_v(_, self.value)\n"
   ]
  }
 ],
 "metadata": {
  "kernelspec": {
   "display_name": "Python 3",
   "language": "python",
   "name": "python3"
  },
  "language_info": {
   "codemirror_mode": {
    "name": "ipython",
    "version": 3
   },
   "file_extension": ".py",
   "mimetype": "text/x-python",
   "name": "python",
   "nbconvert_exporter": "python",
   "pygments_lexer": "ipython3",
   "version": "3.7.3"
  }
 },
 "nbformat": 4,
 "nbformat_minor": 2
}
